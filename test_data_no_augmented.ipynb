{
  "cells": [
    {
      "cell_type": "markdown",
      "source": [
        "#Test load model dengan dataset Test"
      ],
      "metadata": {
        "id": "hGekZxVc1bM8"
      }
    },
    {
      "cell_type": "markdown",
      "metadata": {
        "id": "gyAzY-sMNH2M"
      },
      "source": [
        "## Install dependencies"
      ]
    },
    {
      "cell_type": "code",
      "execution_count": null,
      "metadata": {
        "colab": {
          "base_uri": "https://localhost:8080/"
        },
        "id": "G4gYlxibM7pI",
        "outputId": "2b70293b-d83e-45a7-a752-38e1a24d778d"
      },
      "outputs": [
        {
          "output_type": "stream",
          "name": "stdout",
          "text": [
            "Looking in indexes: https://pypi.org/simple, https://us-python.pkg.dev/colab-wheels/public/simple/\n",
            "Requirement already satisfied: tensorflowjs in /usr/local/lib/python3.7/dist-packages (3.20.0)\n",
            "Requirement already satisfied: split-folders in /usr/local/lib/python3.7/dist-packages (0.5.1)\n"
          ]
        }
      ],
      "source": [
        "pip install --no-deps tensorflowjs split-folders"
      ]
    },
    {
      "cell_type": "markdown",
      "metadata": {
        "id": "mmf19hrc9J-3"
      },
      "source": [
        "## import some of the dependencies which is being used"
      ]
    },
    {
      "cell_type": "code",
      "execution_count": null,
      "metadata": {
        "id": "CoT26-AeNLvg"
      },
      "outputs": [],
      "source": [
        "from tensorflow.keras.preprocessing.image import img_to_array, ImageDataGenerator, load_img\n",
        "from tensorflow.keras.layers import Dense, Input, Dropout, GlobalAveragePooling2D, Flatten, Conv2D, BatchNormalization, Activation, MaxPooling2D\n",
        "from tensorflow.keras.optimizers import Adam, SGD, Adadelta\n",
        "from tensorflow.keras.regularizers import l2\n",
        "from tensorflow.keras.constraints import max_norm, unit_norm\n",
        "from tensorflow.keras.models import Sequential\n",
        "from tensorflow.keras import layers\n",
        "from tensorflow.keras.callbacks import ModelCheckpoint, EarlyStopping, Callback, LearningRateScheduler,TensorBoard\n",
        "from matplotlib.pyplot import imread, imshow, subplots, show\n",
        "from sklearn.model_selection import train_test_split,KFold, StratifiedKFold,cross_val_score\n",
        "from google.colab.patches import cv2_imshow\n",
        "from google.colab import drive, files\n",
        "from tensorflow import keras\n",
        "import numpy as np\n",
        "from imutils import paths\n",
        "from tensorflow.keras import layers\n",
        "from sklearn.metrics import plot_confusion_matrix, classification_report,confusion_matrix\n",
        "from tensorflowjs.converters import save_keras_model\n",
        "from tensorflow.keras.utils import to_categorical\n",
        "import pandas as pd, numpy as np, os, cv2\n",
        "import matplotlib.pyplot as plt\n",
        "import tensorflow as tf, shutil\n",
        "import splitfolders\n",
        "import glob"
      ]
    },
    {
      "cell_type": "markdown",
      "metadata": {
        "id": "DD58luKw0pO8"
      },
      "source": [
        "Mount Google Drive"
      ]
    },
    {
      "cell_type": "code",
      "execution_count": null,
      "metadata": {
        "colab": {
          "base_uri": "https://localhost:8080/"
        },
        "id": "zJsvkzATNQMv",
        "outputId": "f0dc22ed-aa62-4531-da0d-e118ccfd1841"
      },
      "outputs": [
        {
          "output_type": "stream",
          "name": "stdout",
          "text": [
            "Mounted at /content/drive\n"
          ]
        }
      ],
      "source": [
        "drive.flush_and_unmount()\n",
        "drive.mount('/content/drive', force_remount=True)\n",
        "\n",
        "logdir     = \"./log\"\n",
        "dirRoot    = 'drive/My Drive/AKSARA-KOMERING'\n",
        "dataset    = os.path.join(dirRoot, 'aksara_test')\n",
        "result_no_augmented = os.path.join(dirRoot, 'result_no_augmented2')\n"
      ]
    },
    {
      "cell_type": "markdown",
      "metadata": {
        "id": "kRmOLNLV0tKw"
      },
      "source": [
        "Define Some static variable"
      ]
    },
    {
      "cell_type": "code",
      "execution_count": null,
      "metadata": {
        "id": "Mwyd1IwSORiT"
      },
      "outputs": [],
      "source": [
        "batch_size = 36\n",
        "epochs     = 100\n",
        "IMG_HEIGHT = 48\n",
        "IMG_WIDTH  = 48\n",
        "n_class = 336"
      ]
    },
    {
      "cell_type": "markdown",
      "source": [
        "Build Method used to load save and convert model"
      ],
      "metadata": {
        "id": "URtvsxVK8sCs"
      }
    },
    {
      "cell_type": "markdown",
      "metadata": {
        "id": "hDY4sgbn0yFA"
      },
      "source": [
        "Normalize data image from corrupted and bad image data"
      ]
    },
    {
      "cell_type": "code",
      "execution_count": null,
      "metadata": {
        "id": "g4G-HyFLNvq9"
      },
      "outputs": [],
      "source": [
        "from pathlib import Path\n",
        "from PIL import Image\n",
        "\n",
        "path = glob.glob(os.path.join(dataset, '*/*.*'))\n",
        "# path should be list of the image files\n",
        "def normalize_image_data(path):\n",
        "  bad_image = []\n",
        "  for index, img_p in enumerate(path):\n",
        "      try:\n",
        "        img = Image.open(img_p)\n",
        "        img.verify()\n",
        "      except (IOError, SyntaxError) as e:\n",
        "        bad_image.append(img_p)\n",
        "        print(\"bad image =>\" + img_p)\n",
        "  return bad_image\n",
        "\n",
        "# bad_image = normalize_image_data(path)"
      ]
    },
    {
      "cell_type": "code",
      "source": [
        "import json\n",
        "\n",
        "def convert_model(model, model_name):\n",
        "\n",
        "  path_name = os.path.join(result_no_augmented, model_name)\n",
        "  if not os.path.exists(path_name): os.makedirs(path_name)\n",
        "\n",
        "  save_keras_model(model, path_name)\n",
        "\n",
        "def save_model_label(data, model_name):\n",
        "  path_name = os.path.join(result_no_augmented, model_name)\n",
        "\n",
        "  if not os.path.exists(path_name): os.makedirs(path_name)\n",
        "\n",
        "  name = os.path.join(path_name, 'label.json')\n",
        "\n",
        "  with open(name, 'w') as f :\n",
        "    json.dump(data, f)\n",
        "\n",
        "\n",
        "# call this method to save model\n",
        "# it will save label and convert model\n",
        "\n",
        "def save_model(model,data_label, model_name):\n",
        "\n",
        "  path_name = os.path.join(result_no_augmented, model_name)\n",
        "  if not os.path.exists(path_name): os.makedirs(path_name)\n",
        "\n",
        "  model.save(os.path.join(path_name, 'model.h5'))\n",
        "\n",
        "  # convert model\n",
        "  convert_model(model, model_name)\n",
        "\n",
        "  save_model_label(data_label, model_name)\n",
        "\n",
        "  # save model wich other configuration\n",
        "  tf.keras.models.save_model(\n",
        "      model,\n",
        "      os.path.join(path_name, 'pb_model'),\n",
        "      overwrite=True,\n",
        "      include_optimizer=True,\n",
        "      save_format=None,\n",
        "      signatures=None,\n",
        "      options=None\n",
        "  )\n",
        "\n",
        "def load_model(model_name) :\n",
        "  path_name = os.path.join(result_no_augmented, '{}/assets'.format(model_name))\n",
        "  model_name = os.path.join(path_name, 'model.h5')\n",
        "\n",
        "  # throw an exception if model is not found in this path\n",
        "  # print(model_name)\n",
        "  # if not os.path.exists(model_name) : raise Exception('model not found')\n",
        "\n",
        "  return tf.keras.models.load_model(model_name)"
      ],
      "metadata": {
        "id": "XUQjuOmRUVMm"
      },
      "execution_count": null,
      "outputs": []
    },
    {
      "cell_type": "code",
      "source": [
        "import shutil\n",
        "\n",
        "sample_aksara = {}\n",
        "\n",
        "for item in path:\n",
        "  label = item.split('/')[-2]\n",
        "  if label not in sample_aksara:\n",
        "    sample_aksara[label] = item\n",
        "  # else:\n",
        "    # print(\"aksara => {} sudah ada di diretory\".format(sample_aksara[label]))\n",
        "# creaet sample folder which is containt one image aksara per label\n",
        "# store it into sample folder\n",
        "\n",
        "sample_path = os.path.join(dirRoot, 'sample')\n",
        "if not os.path.exists(sample_path): os.makedirs(sample_path)\n",
        "\n",
        "# len(sample_aksara.keys())\n",
        "# copy image into sample directory\n",
        "\n",
        "# for item in sample_aksara:\n",
        "#   label = item.replace(' ', '-')\n",
        "#   dest = os.path.join(sample_path, \"{}.png\".format(label))\n",
        "\n",
        "#   image_source = cv2.imread(sample_aksara[item])\n",
        "#   image_source = cv2.resize(image_source, (IMG_HEIGHT, IMG_WIDTH))\n",
        "#   image_source = cv2.cvtColor(image_source, cv2.COLOR_BGR2GRAY)\n",
        "#   cv2.imwrite(dest, image_source)\n",
        "  # cv2_imshow(image_source)\n",
        "  # break\n",
        "data = {}\n",
        "\n",
        "for item in sample_aksara:\n",
        "  label = item.replace(' ', '-')\n",
        "  data[item] = \"{}.png\".format(label)\n",
        "json.dumps(data)"
      ],
      "metadata": {
        "colab": {
          "base_uri": "https://localhost:8080/",
          "height": 141
        },
        "id": "KXabrIEVUgCc",
        "outputId": "c148472c-6636-4716-f3a8-d7a46f7642dd"
      },
      "execution_count": null,
      "outputs": [
        {
          "output_type": "execute_result",
          "data": {
            "text/plain": [
              "'{\"a\": \"a.png\", \"a\\'\": \"a\\'.png\", \"ah\": \"ah.png\", \"ai\": \"ai.png\", \"an\": \"an.png\", \"ang\": \"ang.png\", \"ar\": \"ar.png\", \"au\": \"au.png\", \"b\": \"b.png\", \"ba\": \"ba.png\", \"bah\": \"bah.png\", \"bai\": \"bai.png\", \"ban\": \"ban.png\", \"bang\": \"bang.png\", \"bar\": \"bar.png\", \"bau\": \"bau.png\", \"be\": \"be.png\", \"bi\": \"bi.png\", \"bo\": \"bo.png\", \"bu\": \"bu.png\", \"c\": \"c.png\", \"cah\": \"cah.png\", \"cai\": \"cai.png\", \"can\": \"can.png\", \"cang\": \"cang.png\", \"car\": \"car.png\", \"ce\": \"ce.png\", \"ci\": \"ci.png\", \"co\": \"co.png\", \"cu\": \"cu.png\", \"d\": \"d.png\", \"da\": \"da.png\", \"dah\": \"dah.png\", \"dai\": \"dai.png\", \"dan\": \"dan.png\", \"dang\": \"dang.png\", \"dar\": \"dar.png\", \"dau\": \"dau.png\", \"de\": \"de.png\", \"di\": \"di.png\", \"do\": \"do.png\", \"du\": \"du.png\", \"e\": \"e.png\", \"g\": \"g.png\", \"ga\": \"ga.png\", \"gah\": \"gah.png\", \"gai\": \"gai.png\", \"gan\": \"gan.png\", \"gang\": \"gang.png\", \"gar\": \"gar.png\", \"gau\": \"gau.png\", \"ge\": \"ge.png\", \"gi\": \"gi.png\", \"go\": \"go.png\", \"gu\": \"gu.png\", \"h\": \"h.png\", \"ha\": \"ha.png\", \"hah\": \"hah.png\", \"hai\": \"hai.png\", \"han\": \"han.png\", \"hang\": \"hang.png\", \"har\": \"har.png\", \"hau\": \"hau.png\", \"he\": \"he.png\", \"hi\": \"hi.png\", \"ho\": \"ho.png\", \"hu\": \"hu.png\", \"i\": \"i.png\", \"j\": \"j.png\", \"ja\": \"ja.png\", \"jah\": \"jah.png\", \"jan\": \"jan.png\", \"jang\": \"jang.png\", \"jar\": \"jar.png\", \"jau\": \"jau.png\", \"je\": \"je.png\", \"ji\": \"ji.png\", \"jo\": \"jo.png\", \"ju\": \"ju.png\", \"ka\": \"ka.png\", \"kah\": \"kah.png\", \"kan\": \"kan.png\", \"kang\": \"kang.png\", \"kar\": \"kar.png\", \"kau\": \"kau.png\", \"ke\": \"ke.png\", \"ki\": \"ki.png\", \"ko\": \"ko.png\", \"ku\": \"ku.png\", \"l\": \"l.png\", \"la\": \"la.png\", \"lah\": \"lah.png\", \"lai\": \"lai.png\", \"lang\": \"lang.png\", \"lar\": \"lar.png\", \"lau\": \"lau.png\", \"le\": \"le.png\", \"li\": \"li.png\", \"lo\": \"lo.png\", \"lu\": \"lu.png\", \"m\": \"m.png\", \"ma\": \"ma.png\", \"mah\": \"mah.png\", \"mai\": \"mai.png\", \"man\": \"man.png\", \"mang\": \"mang.png\", \"mar\": \"mar.png\", \"mau\": \"mau.png\", \"mb\": \"mb.png\", \"mba\": \"mba.png\", \"mbah\": \"mbah.png\", \"mbai\": \"mbai.png\", \"mban\": \"mban.png\", \"mbang\": \"mbang.png\", \"mbar\": \"mbar.png\", \"mbau\": \"mbau.png\", \"mbe\": \"mbe.png\", \"mbi\": \"mbi.png\", \"mbo\": \"mbo.png\", \"me\": \"me.png\", \"mi\": \"mi.png\", \"mo\": \"mo.png\", \"mp\": \"mp.png\", \"mpa\": \"mpa.png\", \"mpah\": \"mpah.png\", \"mpai\": \"mpai.png\", \"mpan\": \"mpan.png\", \"mpang\": \"mpang.png\", \"mpar\": \"mpar.png\", \"mpau\": \"mpau.png\", \"mpe\": \"mpe.png\", \"mpi\": \"mpi.png\", \"mpo\": \"mpo.png\", \"mpu\": \"mpu.png\", \"mu\": \"mu.png\", \"n\": \"n.png\", \"na\": \"na.png\", \"nah\": \"nah.png\", \"nai\": \"nai.png\", \"nan\": \"nan.png\", \"nang\": \"nang.png\", \"nar\": \"nar.png\", \"nau\": \"nau.png\", \"nc\": \"nc.png\", \"nca\": \"nca.png\", \"ncah\": \"ncah.png\", \"ncai\": \"ncai.png\", \"ncan\": \"ncan.png\", \"ncang\": \"ncang.png\", \"ncar\": \"ncar.png\", \"ncau\": \"ncau.png\", \"nce\": \"nce.png\", \"nci\": \"nci.png\", \"nco\": \"nco.png\", \"ncu\": \"ncu.png\", \"nd\": \"nd.png\", \"nda\": \"nda.png\", \"ndah\": \"ndah.png\", \"ndai\": \"ndai.png\", \"ndan\": \"ndan.png\", \"ndang\": \"ndang.png\", \"ndau\": \"ndau.png\", \"nde\": \"nde.png\", \"ndi\": \"ndi.png\", \"ndo\": \"ndo.png\", \"ndu\": \"ndu.png\", \"ne\": \"ne.png\", \"ng\": \"ng.png\", \"nga\": \"nga.png\", \"ngah\": \"ngah.png\", \"ngai\": \"ngai.png\", \"ngan\": \"ngan.png\", \"ngang\": \"ngang.png\", \"ngar\": \"ngar.png\", \"ngau\": \"ngau.png\", \"nge\": \"nge.png\", \"ngg\": \"ngg.png\", \"ngga\": \"ngga.png\", \"nggah\": \"nggah.png\", \"nggai\": \"nggai.png\", \"nggan\": \"nggan.png\", \"nggang\": \"nggang.png\", \"nggar\": \"nggar.png\", \"ngge\": \"ngge.png\", \"nggi\": \"nggi.png\", \"nggo\": \"nggo.png\", \"nggu\": \"nggu.png\", \"ngi\": \"ngi.png\", \"ngk\": \"ngk.png\", \"ngka\": \"ngka.png\", \"ngkah\": \"ngkah.png\", \"ngkai\": \"ngkai.png\", \"ngkan\": \"ngkan.png\", \"ngkang\": \"ngkang.png\", \"ngkar\": \"ngkar.png\", \"ngkau\": \"ngkau.png\", \"ngke\": \"ngke.png\", \"ngki\": \"ngki.png\", \"ngko\": \"ngko.png\", \"ngku\": \"ngku.png\", \"ngo\": \"ngo.png\", \"ngu\": \"ngu.png\", \"ni\": \"ni.png\", \"nj\": \"nj.png\", \"nja\": \"nja.png\", \"njah\": \"njah.png\", \"njai\": \"njai.png\", \"njan\": \"njan.png\", \"njang\": \"njang.png\", \"njar\": \"njar.png\", \"njau\": \"njau.png\", \"nje\": \"nje.png\", \"nji\": \"nji.png\", \"njo\": \"njo.png\", \"nju\": \"nju.png\", \"no\": \"no.png\", \"nt\": \"nt.png\", \"nta\": \"nta.png\", \"ntah\": \"ntah.png\", \"ntai\": \"ntai.png\", \"ntan\": \"ntan.png\", \"ntang\": \"ntang.png\", \"ntar\": \"ntar.png\", \"ntau\": \"ntau.png\", \"nte\": \"nte.png\", \"nto\": \"nto.png\", \"nti\": \"nti.png\", \"ntu\": \"ntu.png\", \"nu\": \"nu.png\", \"ny\": \"ny.png\", \"nya\": \"nya.png\", \"nyah\": \"nyah.png\", \"nyan\": \"nyan.png\", \"nyai\": \"nyai.png\", \"nyang\": \"nyang.png\", \"nyar\": \"nyar.png\", \"nyau\": \"nyau.png\", \"nye\": \"nye.png\", \"nyi\": \"nyi.png\", \"nyo\": \"nyo.png\", \"nyu\": \"nyu.png\", \"o\": \"o.png\", \"p\": \"p.png\", \"pa\": \"pa.png\", \"pah\": \"pah.png\", \"pai\": \"pai.png\", \"pan\": \"pan.png\", \"pang\": \"pang.png\", \"par\": \"par.png\", \"pau\": \"pau.png\", \"pe\": \"pe.png\", \"pi\": \"pi.png\", \"po\": \"po.png\", \"pu\": \"pu.png\", \"r\": \"r.png\", \"ra\": \"ra.png\", \"rah\": \"rah.png\", \"rai\": \"rai.png\", \"ran\": \"ran.png\", \"rang\": \"rang.png\", \"rar\": \"rar.png\", \"re\": \"re.png\", \"rau\": \"rau.png\", \"rh gh\": \"rh-gh.png\", \"rha gha\": \"rha-gha.png\", \"rhah ghah\": \"rhah-ghah.png\", \"rhai ghai\": \"rhai-ghai.png\", \"rhan ghan\": \"rhan-ghan.png\", \"rhang ghang\": \"rhang-ghang.png\", \"rhar ghar\": \"rhar-ghar.png\", \"rhe ghe\": \"rhe-ghe.png\", \"rhi ghi\": \"rhi-ghi.png\", \"rho gho\": \"rho-gho.png\", \"rhu ghu\": \"rhu-ghu.png\", \"ri\": \"ri.png\", \"ro\": \"ro.png\", \"ru\": \"ru.png\", \"s\": \"s.png\", \"sa\": \"sa.png\", \"sah\": \"sah.png\", \"sai\": \"sai.png\", \"san\": \"san.png\", \"sang\": \"sang.png\", \"sar\": \"sar.png\", \"sau\": \"sau.png\", \"se\": \"se.png\", \"si\": \"si.png\", \"so\": \"so.png\", \"su\": \"su.png\", \"t\": \"t.png\", \"ta\": \"ta.png\", \"tah\": \"tah.png\", \"tai\": \"tai.png\", \"tan\": \"tan.png\", \"tang\": \"tang.png\", \"tau\": \"tau.png\", \"te\": \"te.png\", \"ti\": \"ti.png\", \"to\": \"to.png\", \"tu\": \"tu.png\", \"u\": \"u.png\", \"w\": \"w.png\", \"wa\": \"wa.png\", \"wah\": \"wah.png\", \"wan\": \"wan.png\", \"war\": \"war.png\", \"wau\": \"wau.png\", \"wi\": \"wi.png\", \"wo\": \"wo.png\", \"wu\": \"wu.png\", \"y\": \"y.png\", \"ya\": \"ya.png\", \"yah\": \"yah.png\", \"yai\": \"yai.png\", \"yan\": \"yan.png\", \"yang\": \"yang.png\", \"yar\": \"yar.png\", \"yau\": \"yau.png\", \"ye\": \"ye.png\", \"yi\": \"yi.png\", \"yo\": \"yo.png\", \"mbu\": \"mbu.png\", \"ndar\": \"ndar.png\", \"nggau\": \"nggau.png\", \"jai\": \"jai.png\", \"ca\": \"ca.png\", \"cau\": \"cau.png\", \"rhau ghau\": \"rhau-ghau.png\", \"tar\": \"tar.png\", \"wai\": \"wai.png\", \"wang\": \"wang.png\", \"we\": \"we.png\", \"yu\": \"yu.png\", \"k\": \"k.png\", \"kai\": \"kai.png\", \"lan\": \"lan.png\"}'"
            ],
            "application/vnd.google.colaboratory.intrinsic+json": {
              "type": "string"
            }
          },
          "metadata": {},
          "execution_count": 35
        }
      ]
    },
    {
      "cell_type": "markdown",
      "metadata": {
        "id": "VmZtWBtP-m-S"
      },
      "source": [
        "## Build a method used to read dataset with augmented or not augmented **bold text**"
      ]
    },
    {
      "cell_type": "code",
      "execution_count": null,
      "metadata": {
        "id": "g0tyd-_m9-Df"
      },
      "outputs": [],
      "source": [
        "# read dataset\n",
        "def read_dataset(batch_size=36):\n",
        "\n",
        "  # check if read an image with augmented generator or not\n",
        "  test = tf.keras.preprocessing.image_dataset_from_directory(\n",
        "      dataset,\n",
        "      labels=\"inferred\",\n",
        "      label_mode=\"int\",\n",
        "      class_names=None,\n",
        "      color_mode=\"grayscale\",\n",
        "      batch_size= batch_size,\n",
        "      image_size=(IMG_HEIGHT, IMG_WIDTH),\n",
        "      shuffle=False,\n",
        "      seed=None\n",
        "  )\n",
        "\n",
        "  # configure the dataset for performance\n",
        "  AUTOTUNE = tf.data.AUTOTUNE\n",
        "\n",
        " # test_ds = val.cache().prefetch(buffer_size=AUTOTUNE)\n",
        "\n",
        "  return test"
      ]
    },
    {
      "cell_type": "code",
      "execution_count": null,
      "metadata": {
        "colab": {
          "base_uri": "https://localhost:8080/"
        },
        "id": "3x4tgDdPDxLY",
        "outputId": "25a8851a-b9b5-4d6d-a6f4-3d8761cbbb6a"
      },
      "outputs": [
        {
          "output_type": "stream",
          "name": "stdout",
          "text": [
            "Found 17911 files belonging to 336 classes.\n"
          ]
        }
      ],
      "source": [
        "test = read_dataset()"
      ]
    },
    {
      "cell_type": "code",
      "source": [
        "class_names = test.class_names\n",
        "print(class_names)\n"
      ],
      "metadata": {
        "colab": {
          "base_uri": "https://localhost:8080/"
        },
        "id": "GC7m2FmEx_Sv",
        "outputId": "1fcacd0c-9daf-4eb9-f079-2c590cb991b8"
      },
      "execution_count": null,
      "outputs": [
        {
          "output_type": "stream",
          "name": "stdout",
          "text": [
            "['a', \"a'\", 'ah', 'ai', 'an', 'ang', 'ar', 'au', 'b', 'ba', 'bah', 'bai', 'ban', 'bang', 'bar', 'bau', 'be', 'bi', 'bo', 'bu', 'c', 'ca', 'cah', 'cai', 'can', 'cang', 'car', 'cau', 'ce', 'ci', 'co', 'cu', 'd', 'da', 'dah', 'dai', 'dan', 'dang', 'dar', 'dau', 'de', 'di', 'do', 'du', 'e', 'g', 'ga', 'gah', 'gai', 'gan', 'gang', 'gar', 'gau', 'ge', 'gi', 'go', 'gu', 'h', 'ha', 'hah', 'hai', 'han', 'hang', 'har', 'hau', 'he', 'hi', 'ho', 'hu', 'i', 'j', 'ja', 'jah', 'jai', 'jan', 'jang', 'jar', 'jau', 'je', 'ji', 'jo', 'ju', 'k', 'ka', 'kah', 'kai', 'kan', 'kang', 'kar', 'kau', 'ke', 'ki', 'ko', 'ku', 'l', 'la', 'lah', 'lai', 'lan', 'lang', 'lar', 'lau', 'le', 'li', 'lo', 'lu', 'm', 'ma', 'mah', 'mai', 'man', 'mang', 'mar', 'mau', 'mb', 'mba', 'mbah', 'mbai', 'mban', 'mbang', 'mbar', 'mbau', 'mbe', 'mbi', 'mbo', 'mbu', 'me', 'mi', 'mo', 'mp', 'mpa', 'mpah', 'mpai', 'mpan', 'mpang', 'mpar', 'mpau', 'mpe', 'mpi', 'mpo', 'mpu', 'mu', 'n', 'na', 'nah', 'nai', 'nan', 'nang', 'nar', 'nau', 'nc', 'nca', 'ncah', 'ncai', 'ncan', 'ncang', 'ncar', 'ncau', 'nce', 'nci', 'nco', 'ncu', 'nd', 'nda', 'ndah', 'ndai', 'ndan', 'ndang', 'ndar', 'ndau', 'nde', 'ndi', 'ndo', 'ndu', 'ne', 'ng', 'nga', 'ngah', 'ngai', 'ngan', 'ngang', 'ngar', 'ngau', 'nge', 'ngg', 'ngga', 'nggah', 'nggai', 'nggan', 'nggang', 'nggar', 'nggau', 'ngge', 'nggi', 'nggo', 'nggu', 'ngi', 'ngk', 'ngka', 'ngkah', 'ngkai', 'ngkan', 'ngkang', 'ngkar', 'ngkau', 'ngke', 'ngki', 'ngko', 'ngku', 'ngo', 'ngu', 'ni', 'nj', 'nja', 'njah', 'njai', 'njan', 'njang', 'njar', 'njau', 'nje', 'nji', 'njo', 'nju', 'no', 'nt', 'nta', 'ntah', 'ntai', 'ntan', 'ntang', 'ntar', 'ntau', 'nte', 'nti', 'nto', 'ntu', 'nu', 'ny', 'nya', 'nyah', 'nyai', 'nyan', 'nyang', 'nyar', 'nyau', 'nye', 'nyi', 'nyo', 'nyu', 'o', 'p', 'pa', 'pah', 'pai', 'pan', 'pang', 'par', 'pau', 'pe', 'pi', 'po', 'pu', 'r', 'ra', 'rah', 'rai', 'ran', 'rang', 'rar', 'rau', 're', 'rh gh', 'rha gha', 'rhah ghah', 'rhai ghai', 'rhan ghan', 'rhang ghang', 'rhar ghar', 'rhau ghau', 'rhe ghe', 'rhi ghi', 'rho gho', 'rhu ghu', 'ri', 'ro', 'ru', 's', 'sa', 'sah', 'sai', 'san', 'sang', 'sar', 'sau', 'se', 'si', 'so', 'su', 't', 'ta', 'tah', 'tai', 'tan', 'tang', 'tar', 'tau', 'te', 'ti', 'to', 'tu', 'u', 'w', 'wa', 'wah', 'wai', 'wan', 'wang', 'war', 'wau', 'we', 'wi', 'wo', 'wu', 'y', 'ya', 'yah', 'yai', 'yan', 'yang', 'yar', 'yau', 'ye', 'yi', 'yo', 'yu']\n"
          ]
        }
      ]
    },
    {
      "cell_type": "code",
      "source": [],
      "metadata": {
        "id": "t0bhVDF1I3tB"
      },
      "execution_count": null,
      "outputs": []
    },
    {
      "cell_type": "code",
      "source": [
        "\n",
        "file_name = \"model-no-agumented-komering-acurracy-train0.9900427460670471-accuracy-val0.9658023118972778\"\n",
        "model = load_model(file_name)"
      ],
      "metadata": {
        "id": "ntAnamq6REe0"
      },
      "execution_count": null,
      "outputs": []
    },
    {
      "cell_type": "code",
      "source": [
        "model.summary()"
      ],
      "metadata": {
        "colab": {
          "base_uri": "https://localhost:8080/"
        },
        "id": "9V5wbbTfXK6P",
        "outputId": "9c22a046-773a-43a3-ed40-1bb300ded118"
      },
      "execution_count": null,
      "outputs": [
        {
          "output_type": "stream",
          "name": "stdout",
          "text": [
            "Model: \"sequential\"\n",
            "_________________________________________________________________\n",
            " Layer (type)                Output Shape              Param #   \n",
            "=================================================================\n",
            " conv2d (Conv2D)             (None, 48, 48, 48)        480       \n",
            "                                                                 \n",
            " batch_normalization (BatchN  (None, 48, 48, 48)       192       \n",
            " ormalization)                                                   \n",
            "                                                                 \n",
            " activation (Activation)     (None, 48, 48, 48)        0         \n",
            "                                                                 \n",
            " max_pooling2d (MaxPooling2D  (None, 24, 24, 48)       0         \n",
            " )                                                               \n",
            "                                                                 \n",
            " dropout (Dropout)           (None, 24, 24, 48)        0         \n",
            "                                                                 \n",
            " conv2d_1 (Conv2D)           (None, 24, 24, 128)       153728    \n",
            "                                                                 \n",
            " batch_normalization_1 (Batc  (None, 24, 24, 128)      512       \n",
            " hNormalization)                                                 \n",
            "                                                                 \n",
            " activation_1 (Activation)   (None, 24, 24, 128)       0         \n",
            "                                                                 \n",
            " max_pooling2d_1 (MaxPooling  (None, 12, 12, 128)      0         \n",
            " 2D)                                                             \n",
            "                                                                 \n",
            " dropout_1 (Dropout)         (None, 12, 12, 128)       0         \n",
            "                                                                 \n",
            " conv2d_2 (Conv2D)           (None, 12, 12, 512)       590336    \n",
            "                                                                 \n",
            " batch_normalization_2 (Batc  (None, 12, 12, 512)      2048      \n",
            " hNormalization)                                                 \n",
            "                                                                 \n",
            " activation_2 (Activation)   (None, 12, 12, 512)       0         \n",
            "                                                                 \n",
            " max_pooling2d_2 (MaxPooling  (None, 6, 6, 512)        0         \n",
            " 2D)                                                             \n",
            "                                                                 \n",
            " dropout_2 (Dropout)         (None, 6, 6, 512)         0         \n",
            "                                                                 \n",
            " conv2d_3 (Conv2D)           (None, 6, 6, 512)         2359808   \n",
            "                                                                 \n",
            " batch_normalization_3 (Batc  (None, 6, 6, 512)        2048      \n",
            " hNormalization)                                                 \n",
            "                                                                 \n",
            " activation_3 (Activation)   (None, 6, 6, 512)         0         \n",
            "                                                                 \n",
            " max_pooling2d_3 (MaxPooling  (None, 3, 3, 512)        0         \n",
            " 2D)                                                             \n",
            "                                                                 \n",
            " dropout_3 (Dropout)         (None, 3, 3, 512)         0         \n",
            "                                                                 \n",
            " flatten (Flatten)           (None, 4608)              0         \n",
            "                                                                 \n",
            " dense (Dense)               (None, 256)               1179904   \n",
            "                                                                 \n",
            " batch_normalization_4 (Batc  (None, 256)              1024      \n",
            " hNormalization)                                                 \n",
            "                                                                 \n",
            " activation_4 (Activation)   (None, 256)               0         \n",
            "                                                                 \n",
            " dropout_4 (Dropout)         (None, 256)               0         \n",
            "                                                                 \n",
            " dense_1 (Dense)             (None, 512)               131584    \n",
            "                                                                 \n",
            " batch_normalization_5 (Batc  (None, 512)              2048      \n",
            " hNormalization)                                                 \n",
            "                                                                 \n",
            " activation_5 (Activation)   (None, 512)               0         \n",
            "                                                                 \n",
            " dropout_5 (Dropout)         (None, 512)               0         \n",
            "                                                                 \n",
            " dense_2 (Dense)             (None, 336)               172368    \n",
            "                                                                 \n",
            "=================================================================\n",
            "Total params: 4,596,080\n",
            "Trainable params: 4,592,144\n",
            "Non-trainable params: 3,936\n",
            "_________________________________________________________________\n"
          ]
        }
      ]
    },
    {
      "cell_type": "markdown",
      "metadata": {
        "id": "O3tRq3SFlspL"
      },
      "source": [
        "### Build an method which is used to train a model"
      ]
    },
    {
      "cell_type": "code",
      "source": [
        "def normalize_model_label(data):\n",
        "  result = {}\n",
        "  for i, item in enumerate(data.class_names):\n",
        "    result[item] = i\n",
        "  return result\n",
        "\n",
        "label = normalize_model_label(test)"
      ],
      "metadata": {
        "id": "x6XwuL4Ce7Ew"
      },
      "execution_count": null,
      "outputs": []
    },
    {
      "cell_type": "code",
      "source": [
        "print(label)"
      ],
      "metadata": {
        "colab": {
          "base_uri": "https://localhost:8080/"
        },
        "id": "D1H-Sfg0fFlq",
        "outputId": "ea89a507-ef2b-484f-a2fd-131b0befa008"
      },
      "execution_count": null,
      "outputs": [
        {
          "output_type": "stream",
          "name": "stdout",
          "text": [
            "{'a': 0, \"a'\": 1, 'ah': 2, 'ai': 3, 'an': 4, 'ang': 5, 'ar': 6, 'au': 7, 'b': 8, 'ba': 9, 'bah': 10, 'bai': 11, 'ban': 12, 'bang': 13, 'bar': 14, 'bau': 15, 'be': 16, 'bi': 17, 'bo': 18, 'bu': 19, 'c': 20, 'ca': 21, 'cah': 22, 'cai': 23, 'can': 24, 'cang': 25, 'car': 26, 'cau': 27, 'ce': 28, 'ci': 29, 'co': 30, 'cu': 31, 'd': 32, 'da': 33, 'dah': 34, 'dai': 35, 'dan': 36, 'dang': 37, 'dar': 38, 'dau': 39, 'de': 40, 'di': 41, 'do': 42, 'du': 43, 'e': 44, 'g': 45, 'ga': 46, 'gah': 47, 'gai': 48, 'gan': 49, 'gang': 50, 'gar': 51, 'gau': 52, 'ge': 53, 'gi': 54, 'go': 55, 'gu': 56, 'h': 57, 'ha': 58, 'hah': 59, 'hai': 60, 'han': 61, 'hang': 62, 'har': 63, 'hau': 64, 'he': 65, 'hi': 66, 'ho': 67, 'hu': 68, 'i': 69, 'j': 70, 'ja': 71, 'jah': 72, 'jai': 73, 'jan': 74, 'jang': 75, 'jar': 76, 'jau': 77, 'je': 78, 'ji': 79, 'jo': 80, 'ju': 81, 'k': 82, 'ka': 83, 'kah': 84, 'kai': 85, 'kan': 86, 'kang': 87, 'kar': 88, 'kau': 89, 'ke': 90, 'ki': 91, 'ko': 92, 'ku': 93, 'l': 94, 'la': 95, 'lah': 96, 'lai': 97, 'lan': 98, 'lang': 99, 'lar': 100, 'lau': 101, 'le': 102, 'li': 103, 'lo': 104, 'lu': 105, 'm': 106, 'ma': 107, 'mah': 108, 'mai': 109, 'man': 110, 'mang': 111, 'mar': 112, 'mau': 113, 'mb': 114, 'mba': 115, 'mbah': 116, 'mbai': 117, 'mban': 118, 'mbang': 119, 'mbar': 120, 'mbau': 121, 'mbe': 122, 'mbi': 123, 'mbo': 124, 'mbu': 125, 'me': 126, 'mi': 127, 'mo': 128, 'mp': 129, 'mpa': 130, 'mpah': 131, 'mpai': 132, 'mpan': 133, 'mpang': 134, 'mpar': 135, 'mpau': 136, 'mpe': 137, 'mpi': 138, 'mpo': 139, 'mpu': 140, 'mu': 141, 'n': 142, 'na': 143, 'nah': 144, 'nai': 145, 'nan': 146, 'nang': 147, 'nar': 148, 'nau': 149, 'nc': 150, 'nca': 151, 'ncah': 152, 'ncai': 153, 'ncan': 154, 'ncang': 155, 'ncar': 156, 'ncau': 157, 'nce': 158, 'nci': 159, 'nco': 160, 'ncu': 161, 'nd': 162, 'nda': 163, 'ndah': 164, 'ndai': 165, 'ndan': 166, 'ndang': 167, 'ndar': 168, 'ndau': 169, 'nde': 170, 'ndi': 171, 'ndo': 172, 'ndu': 173, 'ne': 174, 'ng': 175, 'nga': 176, 'ngah': 177, 'ngai': 178, 'ngan': 179, 'ngang': 180, 'ngar': 181, 'ngau': 182, 'nge': 183, 'ngg': 184, 'ngga': 185, 'nggah': 186, 'nggai': 187, 'nggan': 188, 'nggang': 189, 'nggar': 190, 'nggau': 191, 'ngge': 192, 'nggi': 193, 'nggo': 194, 'nggu': 195, 'ngi': 196, 'ngk': 197, 'ngka': 198, 'ngkah': 199, 'ngkai': 200, 'ngkan': 201, 'ngkang': 202, 'ngkar': 203, 'ngkau': 204, 'ngke': 205, 'ngki': 206, 'ngko': 207, 'ngku': 208, 'ngo': 209, 'ngu': 210, 'ni': 211, 'nj': 212, 'nja': 213, 'njah': 214, 'njai': 215, 'njan': 216, 'njang': 217, 'njar': 218, 'njau': 219, 'nje': 220, 'nji': 221, 'njo': 222, 'nju': 223, 'no': 224, 'nt': 225, 'nta': 226, 'ntah': 227, 'ntai': 228, 'ntan': 229, 'ntang': 230, 'ntar': 231, 'ntau': 232, 'nte': 233, 'nti': 234, 'nto': 235, 'ntu': 236, 'nu': 237, 'ny': 238, 'nya': 239, 'nyah': 240, 'nyai': 241, 'nyan': 242, 'nyang': 243, 'nyar': 244, 'nyau': 245, 'nye': 246, 'nyi': 247, 'nyo': 248, 'nyu': 249, 'o': 250, 'p': 251, 'pa': 252, 'pah': 253, 'pai': 254, 'pan': 255, 'pang': 256, 'par': 257, 'pau': 258, 'pe': 259, 'pi': 260, 'po': 261, 'pu': 262, 'r': 263, 'ra': 264, 'rah': 265, 'rai': 266, 'ran': 267, 'rang': 268, 'rar': 269, 'rau': 270, 're': 271, 'rh gh': 272, 'rha gha': 273, 'rhah ghah': 274, 'rhai ghai': 275, 'rhan ghan': 276, 'rhang ghang': 277, 'rhar ghar': 278, 'rhau ghau': 279, 'rhe ghe': 280, 'rhi ghi': 281, 'rho gho': 282, 'rhu ghu': 283, 'ri': 284, 'ro': 285, 'ru': 286, 's': 287, 'sa': 288, 'sah': 289, 'sai': 290, 'san': 291, 'sang': 292, 'sar': 293, 'sau': 294, 'se': 295, 'si': 296, 'so': 297, 'su': 298, 't': 299, 'ta': 300, 'tah': 301, 'tai': 302, 'tan': 303, 'tang': 304, 'tar': 305, 'tau': 306, 'te': 307, 'ti': 308, 'to': 309, 'tu': 310, 'u': 311, 'w': 312, 'wa': 313, 'wah': 314, 'wai': 315, 'wan': 316, 'wang': 317, 'war': 318, 'wau': 319, 'we': 320, 'wi': 321, 'wo': 322, 'wu': 323, 'y': 324, 'ya': 325, 'yah': 326, 'yai': 327, 'yan': 328, 'yang': 329, 'yar': 330, 'yau': 331, 'ye': 332, 'yi': 333, 'yo': 334, 'yu': 335}\n"
          ]
        }
      ]
    },
    {
      "cell_type": "code",
      "source": [
        "test_labels = np.array([])\n",
        "for x, y in test:\n",
        "   test_labels = np.concatenate([test_labels, y.numpy()])\n",
        "test_labels.shape # sanity check better match test_predicted_labels\n"
      ],
      "metadata": {
        "id": "JRB80LzRlTK_",
        "colab": {
          "base_uri": "https://localhost:8080/"
        },
        "outputId": "60309dcd-532d-4bdf-c59d-ac093538d831"
      },
      "execution_count": null,
      "outputs": [
        {
          "output_type": "execute_result",
          "data": {
            "text/plain": [
              "(17911,)"
            ]
          },
          "metadata": {},
          "execution_count": 43
        }
      ]
    },
    {
      "cell_type": "markdown",
      "source": [],
      "metadata": {
        "id": "8hcDLo3uTAe7"
      }
    },
    {
      "cell_type": "code",
      "source": [
        "print(test_labels)"
      ],
      "metadata": {
        "id": "cosSoxblljNI",
        "colab": {
          "base_uri": "https://localhost:8080/"
        },
        "outputId": "a0842365-8804-44b4-87f5-afe4bc297a66"
      },
      "execution_count": null,
      "outputs": [
        {
          "output_type": "stream",
          "name": "stdout",
          "text": [
            "[  0.   0.   0. ... 335. 335. 335.]\n"
          ]
        }
      ]
    },
    {
      "cell_type": "code",
      "source": [
        "test_acc = model.evaluate(test)\n",
        "dict(zip(model.metrics_names, test_acc))"
      ],
      "metadata": {
        "colab": {
          "base_uri": "https://localhost:8080/"
        },
        "id": "d0su7RfISdaA",
        "outputId": "a47fdb1e-ada6-400c-cb61-ea1a63eea4ba"
      },
      "execution_count": null,
      "outputs": [
        {
          "output_type": "stream",
          "name": "stdout",
          "text": [
            "498/498 [==============================] - 18s 16ms/step - loss: 1.5689 - accuracy: 0.9243\n"
          ]
        },
        {
          "output_type": "execute_result",
          "data": {
            "text/plain": [
              "{'loss': 1.5688695907592773, 'accuracy': 0.9243481755256653}"
            ]
          },
          "metadata": {},
          "execution_count": 46
        }
      ]
    },
    {
      "cell_type": "code",
      "source": [
        "pred_label=model.predict(test)\n",
        "preds = model.predict(test)\n",
        "pred_lbls = np.argmax(preds, axis=1)\n",
        "#true_lbls = np.argmax(ytrain, axis=1)\n",
        "\n"
      ],
      "metadata": {
        "id": "jPR1Pkd-fnBv"
      },
      "execution_count": null,
      "outputs": []
    },
    {
      "cell_type": "code",
      "source": [
        "print(pred_lbls)"
      ],
      "metadata": {
        "colab": {
          "base_uri": "https://localhost:8080/"
        },
        "id": "8ZS7_oNpour0",
        "outputId": "fee13b28-e452-437b-b9af-d26b3a68fa72"
      },
      "execution_count": null,
      "outputs": [
        {
          "output_type": "stream",
          "name": "stdout",
          "text": [
            "[  0   0   0 ... 335 335 335]\n"
          ]
        }
      ]
    },
    {
      "cell_type": "code",
      "source": [
        "#testY=test_df['label'].map(reverse_mapping)\n",
        "from sklearn.metrics import classification_report\n",
        "print(classification_report(test_labels,pred_lbls,target_names=class_names,digits=5))"
      ],
      "metadata": {
        "colab": {
          "base_uri": "https://localhost:8080/"
        },
        "id": "Zy0nVekqhpDM",
        "outputId": "b7040d91-d093-4d87-a4dd-15406e8538bb"
      },
      "execution_count": null,
      "outputs": [
        {
          "output_type": "stream",
          "name": "stdout",
          "text": [
            "              precision    recall  f1-score   support\n",
            "\n",
            "           a    0.85106   1.00000   0.91954        40\n",
            "          a'    0.97368   0.92500   0.94872        40\n",
            "          ah    1.00000   0.95000   0.97436        40\n",
            "          ai    0.96875   0.77500   0.86111        40\n",
            "          an    0.87879   0.72500   0.79452        40\n",
            "         ang    0.76000   0.95000   0.84444        40\n",
            "          ar    1.00000   0.92500   0.96104       120\n",
            "          au    1.00000   0.95000   0.97436        40\n",
            "           b    0.97500   0.97500   0.97500        40\n",
            "          ba    0.86957   1.00000   0.93023        40\n",
            "         bah    1.00000   1.00000   1.00000        40\n",
            "         bai    0.97561   1.00000   0.98765        40\n",
            "         ban    0.91892   0.85000   0.88312        40\n",
            "        bang    0.76471   0.97500   0.85714        40\n",
            "         bar    0.97436   0.95000   0.96203       120\n",
            "         bau    1.00000   0.92500   0.96104        40\n",
            "          be    0.93421   0.88750   0.91026        80\n",
            "          bi    0.98649   0.91250   0.94805        80\n",
            "          bo    1.00000   0.92500   0.96104        40\n",
            "          bu    0.88636   0.97500   0.92857        40\n",
            "           c    0.97500   0.97500   0.97500        40\n",
            "          ca    0.89744   0.87500   0.88608        40\n",
            "         cah    1.00000   1.00000   1.00000        40\n",
            "         cai    0.85106   1.00000   0.91954        40\n",
            "         can    0.83784   0.77500   0.80519        40\n",
            "        cang    0.70909   0.97500   0.82105        40\n",
            "         car    1.00000   0.92500   0.96104       120\n",
            "         cau    0.88372   0.95000   0.91566        40\n",
            "          ce    0.96000   0.90000   0.92903        80\n",
            "          ci    0.96154   0.93750   0.94937        80\n",
            "          co    1.00000   0.90000   0.94737        40\n",
            "          cu    0.93023   1.00000   0.96386        40\n",
            "           d    1.00000   0.82500   0.90411        40\n",
            "          da    0.95238   1.00000   0.97561        40\n",
            "         dah    0.93023   1.00000   0.96386        40\n",
            "         dai    0.95000   0.95000   0.95000        40\n",
            "         dan    0.88372   0.95000   0.91566        40\n",
            "        dang    0.95000   0.95000   0.95000        40\n",
            "         dar    0.99130   0.95000   0.97021       120\n",
            "         dau    1.00000   1.00000   1.00000        40\n",
            "          de    0.94937   0.93750   0.94340        80\n",
            "          di    0.96250   0.96250   0.96250        80\n",
            "          do    1.00000   0.87500   0.93333        40\n",
            "          du    1.00000   1.00000   1.00000        40\n",
            "           e    0.92958   0.82500   0.87417        80\n",
            "           g    1.00000   0.97500   0.98734        40\n",
            "          ga    0.95238   1.00000   0.97561        40\n",
            "         gah    0.97500   0.97500   0.97500        40\n",
            "         gai    0.97561   1.00000   0.98765        40\n",
            "         gan    0.80435   0.92500   0.86047        40\n",
            "        gang    0.81633   1.00000   0.89888        40\n",
            "         gar    0.94872   0.92500   0.93671       120\n",
            "         gau    0.92308   0.90000   0.91139        40\n",
            "          ge    0.96250   0.96250   0.96250        80\n",
            "          gi    1.00000   0.96250   0.98089        80\n",
            "          go    0.97500   0.97500   0.97500        40\n",
            "          gu    0.97436   0.95000   0.96203        40\n",
            "           h    0.94872   0.92500   0.93671        40\n",
            "          ha    0.90476   0.95000   0.92683        40\n",
            "         hah    0.90909   1.00000   0.95238        40\n",
            "         hai    1.00000   0.97500   0.98734        40\n",
            "         han    0.85106   1.00000   0.91954        40\n",
            "        hang    0.93023   1.00000   0.96386        40\n",
            "         har    0.98261   0.94167   0.96170       120\n",
            "         hau    1.00000   0.87500   0.93333        40\n",
            "          he    0.93590   0.91250   0.92405        80\n",
            "          hi    0.97500   0.97500   0.97500        80\n",
            "          ho    0.97368   0.92500   0.94872        40\n",
            "          hu    0.97222   0.87500   0.92105        40\n",
            "           i    0.93902   0.96250   0.95062        80\n",
            "           j    1.00000   0.87500   0.93333        40\n",
            "          ja    0.92857   0.97500   0.95122        40\n",
            "         jah    0.95122   0.97500   0.96296        40\n",
            "         jai    0.86667   0.97500   0.91765        40\n",
            "         jan    0.90244   0.92500   0.91358        40\n",
            "        jang    0.92500   0.92500   0.92500        40\n",
            "         jar    0.94068   0.92500   0.93277       120\n",
            "         jau    0.97561   1.00000   0.98765        40\n",
            "          je    0.91463   0.93750   0.92593        80\n",
            "          ji    0.92500   0.92500   0.92500        80\n",
            "          jo    1.00000   0.82500   0.90411        40\n",
            "          ju    1.00000   0.97500   0.98734        40\n",
            "           k    0.95122   0.97500   0.96296        40\n",
            "          ka    0.95122   0.97500   0.96296        40\n",
            "         kah    0.97436   0.95000   0.96203        40\n",
            "         kai    0.97500   0.97500   0.97500        40\n",
            "         kan    0.81633   1.00000   0.89888        40\n",
            "        kang    0.92857   0.97500   0.95122        40\n",
            "         kar    0.99107   0.92500   0.95690       120\n",
            "         kau    1.00000   0.92500   0.96104        40\n",
            "          ke    1.00000   0.95000   0.97436        80\n",
            "          ki    0.96341   0.98750   0.97531        80\n",
            "          ko    1.00000   0.87500   0.93333        40\n",
            "          ku    0.88889   1.00000   0.94118        40\n",
            "           l    0.90698   0.97500   0.93976        40\n",
            "          la    0.95238   1.00000   0.97561        40\n",
            "         lah    0.88889   1.00000   0.94118        40\n",
            "         lai    0.86047   0.92500   0.89157        40\n",
            "         lan    0.75610   0.77500   0.76543        40\n",
            "        lang    0.79592   0.97500   0.87640        40\n",
            "         lar    0.94215   0.95000   0.94606       120\n",
            "         lau    1.00000   0.82500   0.90411        40\n",
            "          le    0.94737   0.90000   0.92308        80\n",
            "          li    0.86813   0.98750   0.92398        80\n",
            "          lo    1.00000   0.95000   0.97436        40\n",
            "          lu    0.90244   0.92500   0.91358        40\n",
            "           m    1.00000   0.77500   0.87324        40\n",
            "          ma    0.88636   0.97500   0.92857        40\n",
            "         mah    0.97561   1.00000   0.98765        40\n",
            "         mai    0.97500   0.97500   0.97500        40\n",
            "         man    0.84444   0.95000   0.89412        40\n",
            "        mang    0.97500   0.97500   0.97500        40\n",
            "         mar    0.86923   0.94167   0.90400       120\n",
            "         mau    1.00000   0.87500   0.93333        40\n",
            "          mb    0.94118   0.80000   0.86486        40\n",
            "         mba    1.00000   0.97500   0.98734        40\n",
            "        mbah    1.00000   0.97500   0.98734        40\n",
            "        mbai    0.93023   1.00000   0.96386        40\n",
            "        mban    0.76087   0.87500   0.81395        40\n",
            "       mbang    0.70909   0.97500   0.82105        40\n",
            "        mbar    0.91803   0.93333   0.92562       120\n",
            "        mbau    0.97368   0.92500   0.94872        40\n",
            "         mbe    0.95946   0.88750   0.92208        80\n",
            "         mbi    0.93976   0.97500   0.95706        80\n",
            "         mbo    0.97436   0.95000   0.96203        40\n",
            "         mbu    0.95238   1.00000   0.97561        40\n",
            "          me    0.95775   0.85000   0.90066        80\n",
            "          mi    0.98551   0.85000   0.91275        80\n",
            "          mo    1.00000   0.87500   0.93333        40\n",
            "          mp    0.78723   0.92500   0.85057        40\n",
            "         mpa    0.92500   0.92500   0.92500        40\n",
            "        mpah    0.74510   0.95000   0.83516        40\n",
            "        mpai    0.97561   1.00000   0.98765        40\n",
            "        mpan    0.67273   0.92500   0.77895        40\n",
            "       mpang    0.73684   0.87500   0.80000        32\n",
            "        mpar    0.97345   0.92437   0.94828       119\n",
            "        mpau    1.00000   0.90000   0.94737        40\n",
            "         mpe    0.92308   0.90000   0.91139        80\n",
            "         mpi    0.92683   0.95000   0.93827        80\n",
            "         mpo    0.83333   0.87500   0.85366        40\n",
            "         mpu    0.96774   0.75000   0.84507        40\n",
            "          mu    0.94872   0.92500   0.93671        40\n",
            "           n    0.95122   0.97500   0.96296        40\n",
            "          na    0.86957   1.00000   0.93023        40\n",
            "         nah    0.97561   1.00000   0.98765        40\n",
            "         nai    0.97500   0.97500   0.97500        40\n",
            "         nan    0.94872   0.92500   0.93671        40\n",
            "        nang    0.82609   0.95000   0.88372        40\n",
            "         nar    0.96721   0.98333   0.97521       120\n",
            "         nau    1.00000   0.95000   0.97436        40\n",
            "          nc    0.94595   0.87500   0.90909        40\n",
            "         nca    0.90909   1.00000   0.95238        40\n",
            "        ncah    0.88636   0.97500   0.92857        40\n",
            "        ncai    0.94595   0.87500   0.90909        40\n",
            "        ncan    0.76316   0.72500   0.74359        40\n",
            "       ncang    0.76471   0.97500   0.85714        40\n",
            "        ncar    0.95495   0.88333   0.91775       120\n",
            "        ncau    0.93939   0.77500   0.84932        40\n",
            "         nce    0.82955   0.91250   0.86905        80\n",
            "         nci    0.92308   0.90000   0.91139        80\n",
            "         nco    0.94444   0.85000   0.89474        40\n",
            "         ncu    0.81633   1.00000   0.89888        40\n",
            "          nd    0.97143   0.85000   0.90667        40\n",
            "         nda    0.92683   0.95000   0.93827        40\n",
            "        ndah    0.97297   0.90000   0.93506        40\n",
            "        ndai    0.97500   0.97500   0.97500        40\n",
            "        ndan    0.93939   0.77500   0.84932        40\n",
            "       ndang    0.81818   0.90000   0.85714        40\n",
            "        ndar    1.00000   0.93333   0.96552       120\n",
            "        ndau    1.00000   0.87500   0.93333        40\n",
            "         nde    0.98485   0.81250   0.89041        80\n",
            "         ndi    0.87500   0.87500   0.87500        80\n",
            "         ndo    1.00000   0.92500   0.96104        40\n",
            "         ndu    0.92857   0.97500   0.95122        40\n",
            "          ne    0.96104   0.92500   0.94268        80\n",
            "          ng    0.97143   0.85000   0.90667        40\n",
            "         nga    0.93023   1.00000   0.96386        40\n",
            "        ngah    0.92857   0.97500   0.95122        40\n",
            "        ngai    0.92857   0.97500   0.95122        40\n",
            "        ngan    0.85294   0.72500   0.78378        40\n",
            "       ngang    0.70175   1.00000   0.82474        40\n",
            "        ngar    0.94958   0.94167   0.94561       120\n",
            "        ngau    0.97222   0.87500   0.92105        40\n",
            "         nge    0.86250   0.86250   0.86250        80\n",
            "         ngg    0.92857   0.97500   0.95122        40\n",
            "        ngga    0.92683   0.95000   0.93827        40\n",
            "       nggah    0.95000   0.95000   0.95000        40\n",
            "       nggai    0.97561   1.00000   0.98765        40\n",
            "       nggan    0.90000   0.90000   0.90000        40\n",
            "      nggang    0.82222   0.92500   0.87059        40\n",
            "       nggar    0.97458   0.95833   0.96639       120\n",
            "       nggau    0.97368   0.92500   0.94872        40\n",
            "        ngge    0.97143   0.85000   0.90667        80\n",
            "        nggi    0.96296   0.97500   0.96894        80\n",
            "        nggo    0.97561   1.00000   0.98765        40\n",
            "        nggu    0.81633   1.00000   0.89888        40\n",
            "         ngi    0.89535   0.96250   0.92771        80\n",
            "         ngk    1.00000   0.95000   0.97436        40\n",
            "        ngka    0.90476   0.95000   0.92683        40\n",
            "       ngkah    1.00000   0.97500   0.98734        40\n",
            "       ngkai    0.92857   0.97500   0.95122        40\n",
            "       ngkan    0.94595   0.87500   0.90909        40\n",
            "      ngkang    0.83333   1.00000   0.90909        40\n",
            "       ngkar    0.97541   0.99167   0.98347       120\n",
            "       ngkau    1.00000   0.97500   0.98734        40\n",
            "        ngke    0.96104   0.92500   0.94268        80\n",
            "        ngki    0.97333   0.91250   0.94194        80\n",
            "        ngko    1.00000   0.92500   0.96104        40\n",
            "        ngku    0.97561   1.00000   0.98765        40\n",
            "         ngo    1.00000   0.72500   0.84058        40\n",
            "         ngu    0.90476   0.95000   0.92683        40\n",
            "          ni    0.89535   0.96250   0.92771        80\n",
            "          nj    0.97297   0.90000   0.93506        40\n",
            "         nja    0.76471   0.97500   0.85714        40\n",
            "        njah    1.00000   0.95000   0.97436        40\n",
            "        njai    1.00000   0.85000   0.91892        40\n",
            "        njan    0.89189   0.82500   0.85714        40\n",
            "       njang    0.80000   1.00000   0.88889        40\n",
            "        njar    0.96330   0.87500   0.91703       120\n",
            "        njau    0.94595   0.87500   0.90909        40\n",
            "         nje    0.87342   0.86250   0.86792        80\n",
            "         nji    0.89773   0.98750   0.94048        80\n",
            "         njo    0.97143   0.85000   0.90667        40\n",
            "         nju    0.94872   0.92500   0.93671        40\n",
            "          no    0.97297   0.90000   0.93506        40\n",
            "          nt    1.00000   0.72500   0.84058        40\n",
            "         nta    0.91892   0.85000   0.88312        40\n",
            "        ntah    0.97297   0.90000   0.93506        40\n",
            "        ntai    0.84444   0.95000   0.89412        40\n",
            "        ntan    0.89474   0.85000   0.87179        40\n",
            "       ntang    0.63934   0.97500   0.77228        40\n",
            "        ntar    0.99099   0.91667   0.95238       120\n",
            "        ntau    1.00000   0.87500   0.93333        40\n",
            "         nte    0.94667   0.88750   0.91613        80\n",
            "         nti    0.95181   0.98750   0.96933        80\n",
            "         nto    1.00000   0.85000   0.91892        40\n",
            "         ntu    0.90476   0.95000   0.92683        40\n",
            "          nu    0.90698   0.97500   0.93976        40\n",
            "          ny    0.92683   0.95000   0.93827        40\n",
            "         nya    0.90698   1.00000   0.95122        39\n",
            "        nyah    0.97561   1.00000   0.98765        40\n",
            "        nyai    0.97436   0.95000   0.96203        40\n",
            "        nyan    0.94737   0.90000   0.92308        40\n",
            "       nyang    0.75510   0.92500   0.83146        40\n",
            "        nyar    0.97479   0.96667   0.97071       120\n",
            "        nyau    0.94737   0.90000   0.92308        40\n",
            "         nye    0.87640   0.97500   0.92308        80\n",
            "         nyi    0.91781   0.83750   0.87582        80\n",
            "         nyo    0.97368   0.92500   0.94872        40\n",
            "         nyu    1.00000   0.92500   0.96104        40\n",
            "           o    1.00000   0.97500   0.98734        40\n",
            "           p    0.97561   1.00000   0.98765        40\n",
            "          pa    1.00000   1.00000   1.00000        40\n",
            "         pah    0.85106   1.00000   0.91954        40\n",
            "         pai    0.95000   0.95000   0.95000        40\n",
            "         pan    0.78261   0.90000   0.83721        40\n",
            "        pang    0.79167   0.95000   0.86364        40\n",
            "         par    0.99083   0.90000   0.94323       120\n",
            "         pau    1.00000   0.85000   0.91892        40\n",
            "          pe    0.95062   0.96250   0.95652        80\n",
            "          pi    0.97500   0.97500   0.97500        80\n",
            "          po    0.97436   0.95000   0.96203        40\n",
            "          pu    0.91892   0.85000   0.88312        40\n",
            "           r    0.91429   0.80000   0.85333        40\n",
            "          ra    0.85106   1.00000   0.91954        40\n",
            "         rah    0.90000   0.90000   0.90000        40\n",
            "         rai    0.91667   0.82500   0.86842        40\n",
            "         ran    0.78571   0.55000   0.64706        40\n",
            "        rang    0.78947   0.75000   0.76923        40\n",
            "         rar    0.87597   0.94167   0.90763       120\n",
            "         rau    0.84091   0.92500   0.88095        40\n",
            "          re    0.69608   0.88750   0.78022        80\n",
            "       rh gh    0.89189   0.82500   0.85714        40\n",
            "     rha gha    0.84091   0.92500   0.88095        40\n",
            "   rhah ghah    0.83333   0.87500   0.85366        40\n",
            "   rhai ghai    0.84091   0.92500   0.88095        40\n",
            "   rhan ghan    0.57895   0.82500   0.68041        40\n",
            " rhang ghang    0.64815   0.87500   0.74468        40\n",
            "   rhar ghar    0.95098   0.80165   0.86996       121\n",
            "   rhau ghau    0.91667   0.82500   0.86842        40\n",
            "     rhe ghe    0.79104   0.66250   0.72109        80\n",
            "     rhi ghi    0.89831   0.66250   0.76259        80\n",
            "     rho gho    0.93103   0.67500   0.78261        40\n",
            "     rhu ghu    0.82222   0.92500   0.87059        40\n",
            "          ri    0.76842   0.91250   0.83429        80\n",
            "          ro    0.80000   0.80000   0.80000        40\n",
            "          ru    0.94737   0.90000   0.92308        40\n",
            "           s    0.97368   0.92500   0.94872        40\n",
            "          sa    1.00000   0.97500   0.98734        40\n",
            "         sah    0.97436   0.95000   0.96203        40\n",
            "         sai    0.95122   0.97500   0.96296        40\n",
            "         san    0.97222   0.87500   0.92105        40\n",
            "        sang    0.88372   0.95000   0.91566        40\n",
            "         sar    1.00000   0.99167   0.99582       120\n",
            "         sau    1.00000   1.00000   1.00000        40\n",
            "          se    0.82022   0.91250   0.86391        80\n",
            "          si    0.86364   0.95000   0.90476        80\n",
            "          so    1.00000   0.75000   0.85714        40\n",
            "          su    1.00000   0.95000   0.97436        40\n",
            "           t    0.90000   0.90000   0.90000        40\n",
            "          ta    0.90909   1.00000   0.95238        40\n",
            "         tah    0.88889   1.00000   0.94118        40\n",
            "         tai    0.90000   0.90000   0.90000        40\n",
            "         tan    0.92308   0.90000   0.91139        40\n",
            "        tang    0.82979   0.97500   0.89655        40\n",
            "         tar    0.96610   0.95000   0.95798       120\n",
            "         tau    1.00000   0.97500   0.98734        40\n",
            "          te    0.91860   0.98750   0.95181        80\n",
            "          ti    0.96250   0.96250   0.96250        80\n",
            "          to    0.97222   0.87500   0.92105        40\n",
            "          tu    0.97436   0.95000   0.96203        40\n",
            "           u    0.95122   0.97500   0.96296        40\n",
            "           w    0.97222   0.87500   0.92105        40\n",
            "          wa    0.95238   1.00000   0.97561        40\n",
            "         wah    0.95000   0.95000   0.95000        40\n",
            "         wai    1.00000   0.97500   0.98734        40\n",
            "         wan    0.89474   0.85000   0.87179        40\n",
            "        wang    0.84091   0.92500   0.88095        40\n",
            "         war    1.00000   0.94167   0.96996       120\n",
            "         wau    1.00000   0.97500   0.98734        40\n",
            "          we    0.90000   0.90000   0.90000        80\n",
            "          wi    0.87912   1.00000   0.93567        80\n",
            "          wo    1.00000   0.72500   0.84058        40\n",
            "          wu    0.92857   0.97500   0.95122        40\n",
            "           y    1.00000   0.97500   0.98734        40\n",
            "          ya    0.88889   1.00000   0.94118        40\n",
            "         yah    0.97297   0.90000   0.93506        40\n",
            "         yai    1.00000   1.00000   1.00000        40\n",
            "         yan    0.72727   0.80000   0.76190        40\n",
            "        yang    0.86364   0.95000   0.90476        40\n",
            "         yar    0.99065   0.88333   0.93392       120\n",
            "         yau    0.97368   0.92500   0.94872        40\n",
            "          ye    0.93671   0.92500   0.93082        80\n",
            "          yi    0.94118   1.00000   0.96970        80\n",
            "          yo    1.00000   0.90000   0.94737        40\n",
            "          yu    1.00000   0.92500   0.96104        40\n",
            "\n",
            "    accuracy                        0.92435     17911\n",
            "   macro avg    0.92510   0.92441   0.92191     17911\n",
            "weighted avg    0.93003   0.92435   0.92471     17911\n",
            "\n"
          ]
        }
      ]
    }
  ],
  "metadata": {
    "accelerator": "GPU",
    "colab": {
      "machine_shape": "hm",
      "provenance": []
    },
    "gpuClass": "standard",
    "kernelspec": {
      "display_name": "Python 3",
      "name": "python3"
    },
    "language_info": {
      "name": "python"
    }
  },
  "nbformat": 4,
  "nbformat_minor": 0
}